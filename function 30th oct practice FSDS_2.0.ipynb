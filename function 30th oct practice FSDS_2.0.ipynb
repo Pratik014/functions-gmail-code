{
 "cells": [
  {
   "cell_type": "code",
   "execution_count": null,
   "id": "016ad9cf-4fa7-4353-96a4-5cdbccc0c326",
   "metadata": {},
   "outputs": [],
   "source": [
    "#1. write a function which will try to find out len of a string without using an inbuilt len function "
   ]
  },
  {
   "cell_type": "code",
   "execution_count": 4,
   "id": "aaea5381-04bd-4ef0-82f0-38817b392fd0",
   "metadata": {},
   "outputs": [
    {
     "data": {
      "text/plain": [
       "4"
      ]
     },
     "execution_count": 4,
     "metadata": {},
     "output_type": "execute_result"
    }
   ],
   "source": [
    "len(\"sudh\")"
   ]
  },
  {
   "cell_type": "code",
   "execution_count": 5,
   "id": "5dc37fa9-7453-4b44-a178-ff453b838fc4",
   "metadata": {},
   "outputs": [],
   "source": [
    "def test(s):\n",
    "    \"\"\"this is a prog which will help to find a lenght of string\"\"\"\n",
    "    count = 0 \n",
    "    for i in s:\n",
    "        #if type(i) == str :\n",
    "            count = count + 1\n",
    "    return count"
   ]
  },
  {
   "cell_type": "code",
   "execution_count": 6,
   "id": "a03ff675-cfc5-4d25-b8e4-b436fd176862",
   "metadata": {},
   "outputs": [
    {
     "data": {
      "text/plain": [
       "4"
      ]
     },
     "execution_count": 6,
     "metadata": {},
     "output_type": "execute_result"
    }
   ],
   "source": [
    "test(\"sudh\")"
   ]
  },
  {
   "cell_type": "code",
   "execution_count": 7,
   "id": "3ad24704-7052-4ad9-9aec-134015435405",
   "metadata": {},
   "outputs": [],
   "source": [
    "#2. write a function which  will be able to print an index of list element without using an index function\n",
    "l = [1,2,3,4,\"sudh\",\"ineuron\"]"
   ]
  },
  {
   "cell_type": "code",
   "execution_count": 8,
   "id": "4feacfbe-f399-4cab-9491-9bba12cf5945",
   "metadata": {},
   "outputs": [],
   "source": [
    "def test1(li):\n",
    "    for i in range(0,test(li)):\n",
    "        print( li[i] , \": \" ,i) \n",
    "        \n",
    "    "
   ]
  },
  {
   "cell_type": "code",
   "execution_count": 9,
   "id": "1006b896-b705-4330-88e3-c3d3f8a458b8",
   "metadata": {},
   "outputs": [
    {
     "name": "stdout",
     "output_type": "stream",
     "text": [
      "1 :  0\n",
      "2 :  1\n",
      "3 :  2\n",
      "4 :  3\n",
      "sudh :  4\n",
      "ineuron :  5\n"
     ]
    }
   ],
   "source": [
    "test1(l)"
   ]
  },
  {
   "cell_type": "code",
   "execution_count": null,
   "id": "c4a106db-493e-43bd-9eb6-de5454d53ac8",
   "metadata": {},
   "outputs": [],
   "source": [
    "#3. write a function which will be able to print an ip address of your system"
   ]
  },
  {
   "cell_type": "code",
   "execution_count": 10,
   "id": "e4442ae7-5af8-4856-96f3-930f23350671",
   "metadata": {},
   "outputs": [],
   "source": [
    "import socket \n",
    "def test2():\n",
    "    ip= socket.gethostbyname(socket.gethostname())\n",
    "    return ip\n"
   ]
  },
  {
   "cell_type": "code",
   "execution_count": 11,
   "id": "5ed3e592-b543-4d13-ac62-2a75b30c513e",
   "metadata": {},
   "outputs": [
    {
     "data": {
      "text/plain": [
       "'192.168.0.104'"
      ]
     },
     "execution_count": 11,
     "metadata": {},
     "output_type": "execute_result"
    }
   ],
   "source": [
    "test2()"
   ]
  },
  {
   "cell_type": "code",
   "execution_count": null,
   "id": "d83e5676-d36e-4dec-95c4-441767544f08",
   "metadata": {},
   "outputs": [],
   "source": [
    "#4. write a function which will shutdown your system\n",
    "import os\n",
    "os.system(\"shutdown /r /t 4\")\n",
    "\n",
    "# /s - shutdown\n",
    "# /r - restart \n",
    "# /t 1 - timer "
   ]
  },
  {
   "cell_type": "code",
   "execution_count": null,
   "id": "69e1732b-b8cd-4f36-98b0-a89d9399ea06",
   "metadata": {},
   "outputs": [],
   "source": [
    "#5. write a function which will take input as a list with any kind of numeric value and give an out as a multiplication of \n",
    "#all the numeric data l = [3.5, 6.56, 4,5,\"sudh\" , \"ineuron\" , 'fsda bootcamp 2.0']"
   ]
  },
  {
   "cell_type": "code",
   "execution_count": null,
   "id": "c7fbbaba-91d5-47fb-8241-7e5a6c5d54c8",
   "metadata": {},
   "outputs": [],
   "source": [
    "l = [3.5, 6.56, 4,5,\"sudh\" , \"ineuron\" , 'fsda bootcamp 2.0']\n",
    "def test3(l):\n",
    "    mul = 1 \n",
    "    for i in l :\n",
    "        if type(i) == int or type(i) == float : \n",
    "            mul = mul *i\n",
    "    return mul\n",
    "    "
   ]
  },
  {
   "cell_type": "code",
   "execution_count": null,
   "id": "5828dfe5-da72-484b-9b7d-c0630eb93f18",
   "metadata": {},
   "outputs": [],
   "source": [
    "test3(l)"
   ]
  },
  {
   "cell_type": "code",
   "execution_count": null,
   "id": "527c9ce9-e3d8-44c4-a140-dc499879beab",
   "metadata": {},
   "outputs": [],
   "source": [
    "#6. write a function which will be able to read all the mails "
   ]
  },
  {
   "cell_type": "code",
   "execution_count": null,
   "id": "7745af9a-c957-428c-a7d3-b2f885ff316a",
   "metadata": {},
   "outputs": [],
   "source": [
    "import smtplib\n",
    "import time\n",
    "import imaplib\n",
    "import email\n",
    "import traceback \n",
    "ORG_EMAIL = \"@gmail.com\" \n",
    "FROM_EMAIL = 'sskumar9876@gmail.com'\n",
    "FROM_PWD = 'rlplfdcsoiqruagn'\n",
    "SMTP_SERVER = \"imap.gmail.com\" \n",
    "SMTP_PORT = 993\n",
    "imaplib._MAXLINE = 400000000\n",
    "\n",
    "def read_email_from_gmail():\n",
    "    try:\n",
    "        mail = imaplib.IMAP4_SSL(SMTP_SERVER)\n",
    "        mail.login(FROM_EMAIL,FROM_PWD)\n",
    "        mail.select('inbox')\n",
    "\n",
    "        data = mail.search(None, 'ALL')\n",
    "        mail_ids = data[1]\n",
    "        id_list = mail_ids[0].split()   \n",
    "        first_email_id = int(id_list[0])\n",
    "        latest_email_id = int(id_list[-1])\n",
    "\n",
    "        for i in range(latest_email_id,first_email_id, -1):\n",
    "            data = mail.fetch(str(i), '(RFC822)' )\n",
    "            for response_part in data:\n",
    "                arr = response_part[0]\n",
    "                if isinstance(arr, tuple):\n",
    "                    msg = email.message_from_string(str(arr[1],'utf-8'))\n",
    "                    email_subject = msg['subject']\n",
    "                    email_from = msg['from']\n",
    "                    print('From : ' + email_from + '\\n')\n",
    "                    print('Subject : ' + email_subject + '\\n')\n",
    "\n",
    "    except Exception as e:\n",
    "        traceback.print_exc() \n",
    "        print(str(e))\n",
    "\n",
    "read_email_from_gmail()"
   ]
  },
  {
   "cell_type": "code",
   "execution_count": null,
   "id": "7eebfce7-535d-4143-abd5-634562be4053",
   "metadata": {},
   "outputs": [],
   "source": [
    "#7 . write a function which will be able to send a mail to anyone "
   ]
  },
  {
   "cell_type": "code",
   "execution_count": null,
   "id": "5001681b-9fe3-495a-a446-49727d0d518b",
   "metadata": {},
   "outputs": [],
   "source": [
    "import smtplib , ssl\n",
    "port = 465  # For SSL\n",
    "smtp_server = \"smtp.gmail.com\"\n",
    "sender_email = \"sskumar9876@gmail.com\"  # Enter your address\n",
    "receiver_email = \"sudhanshu@ineuron.ai\"  # Enter receiver address\n",
    "password = 'rlplfdcsoiqruagn'\n",
    "message = \"\"\"this is my message from python code in my live class\"\"\"\n",
    "\n",
    "context = ssl.create_default_context()\n",
    "with smtplib.SMTP_SSL(smtp_server, port, context=context) as server:\n",
    "    server.login(sender_email, password)\n",
    "    server.sendmail(sender_email, receiver_email, message)"
   ]
  },
  {
   "cell_type": "code",
   "execution_count": null,
   "id": "3f0b6d2c-8b5e-4648-afeb-8d18a3b34e66",
   "metadata": {},
   "outputs": [],
   "source": [
    "#8. write a function which will be able to read a doc/word file from your system"
   ]
  },
  {
   "cell_type": "code",
   "execution_count": null,
   "id": "8e15f2ad-f95e-499a-a316-520b3991eee9",
   "metadata": {},
   "outputs": [],
   "source": [
    "import docx2txt"
   ]
  },
  {
   "cell_type": "code",
   "execution_count": null,
   "id": "ad42518e-297c-4d42-aa55-761940333388",
   "metadata": {},
   "outputs": [],
   "source": [
    "!pip install docx2txt"
   ]
  },
  {
   "cell_type": "code",
   "execution_count": null,
   "id": "f720d29e-5ff0-438c-890a-8ca56cf7b68e",
   "metadata": {},
   "outputs": [],
   "source": [
    "a = docx2txt.process('testword.docx')\n",
    "print(a)"
   ]
  },
  {
   "cell_type": "code",
   "execution_count": null,
   "id": "e8bb29ac-1cee-46b0-a1ca-0571ff28d42f",
   "metadata": {},
   "outputs": [],
   "source": [
    "ls"
   ]
  },
  {
   "cell_type": "code",
   "execution_count": null,
   "id": "a94a7482-9fdf-4bba-803d-64c21aacd8a5",
   "metadata": {},
   "outputs": [],
   "source": []
  }
 ],
 "metadata": {
  "kernelspec": {
   "display_name": "Python 3 (ipykernel)",
   "language": "python",
   "name": "python3"
  },
  "language_info": {
   "codemirror_mode": {
    "name": "ipython",
    "version": 3
   },
   "file_extension": ".py",
   "mimetype": "text/x-python",
   "name": "python",
   "nbconvert_exporter": "python",
   "pygments_lexer": "ipython3",
   "version": "3.10.6"
  }
 },
 "nbformat": 4,
 "nbformat_minor": 5
}
